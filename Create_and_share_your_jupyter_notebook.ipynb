{
 "cells": [
  {
   "cell_type": "markdown",
   "id": "4336ac93",
   "metadata": {},
   "source": [
    "Exercise 2 - Title of the Notebook (1 pt)"
   ]
  },
  {
   "cell_type": "markdown",
   "id": "037a38e9",
   "metadata": {},
   "source": [
    "# Data Science Final Project"
   ]
  },
  {
   "cell_type": "markdown",
   "id": "c95470f0",
   "metadata": {},
   "source": [
    "Exercise 3 - Introduction (1 pt)"
   ]
  },
  {
   "cell_type": "markdown",
   "id": "6dfa8e0a",
   "metadata": {},
   "source": [
    "Jupyter Notebook is an open-source web application that allows you to create and share documents containing live code, equations, visualizations, and narrative text. It supports multiple programming languages, including Python, and is widely used for data analysis, machine learning, and scientific research. With Jupyter, you can run code in interactive cells, view the output immediately, and seamlessly integrate code with explanations and visual content, making it a powerful tool for teaching, data exploration, and prototyping solutions."
   ]
  },
  {
   "cell_type": "markdown",
   "id": "b1abb1e8",
   "metadata": {},
   "source": [
    "Exercise 4 - List Data Science Languages (3 pts)"
   ]
  },
  {
   "cell_type": "markdown",
   "id": "574dfd20",
   "metadata": {},
   "source": [
    "## Data Science Languages\n",
    "- Python\n",
    "- R\n",
    "- SQL\n",
    "- Julia\n"
   ]
  },
  {
   "cell_type": "markdown",
   "id": "02760ba8",
   "metadata": {},
   "source": [
    "Exercise 5 - List Data Science Libraries (3 pts)"
   ]
  },
  {
   "cell_type": "markdown",
   "id": "f1cad4a5",
   "metadata": {},
   "source": [
    "## Data Science Libraries\n",
    "- Pandas\n",
    "- NumPy\n",
    "- SciPy\n",
    "- Scikit-learn\n"
   ]
  },
  {
   "cell_type": "markdown",
   "id": "c5e73676",
   "metadata": {},
   "source": [
    "Exercise 5 - List Data Science Libraries (3 pts)"
   ]
  },
  {
   "cell_type": "markdown",
   "id": "0abd3a6b",
   "metadata": {},
   "source": [
    "## Data Science Libraries\n",
    "- Pandas\n",
    "- NumPy\n",
    "- SciPy\n",
    "- Scikit-learn\n"
   ]
  },
  {
   "cell_type": "markdown",
   "id": "1ae7c00e",
   "metadata": {},
   "source": [
    "Exercise 6 - Table of Data Science Tools (3 pts)"
   ]
  },
  {
   "cell_type": "markdown",
   "id": "efc85f1b",
   "metadata": {},
   "source": [
    "## Data Science Tools\n",
    "| Tool       | Description               |\n",
    "|------------|---------------------------|\n",
    "| JupyterLab | Interactive development environment |\n",
    "| GitHub     | Version control and collaboration |\n",
    "| Tableau    | Data visualization |\n"
   ]
  },
  {
   "cell_type": "markdown",
   "id": "bdddc70d",
   "metadata": {},
   "source": [
    "Exercise 7 - Arithmetic Expression Examples (1 pt)"
   ]
  },
  {
   "cell_type": "markdown",
   "id": "03cc6fb9",
   "metadata": {},
   "source": [
    "## Arithmetic Expression Examples\n",
    "- Addition\n",
    "- Subtraction\n",
    "- Multiplication\n",
    "- Division\n"
   ]
  },
  {
   "cell_type": "markdown",
   "id": "782075c5",
   "metadata": {},
   "source": [
    "Exercise 8 - Multiply and Add Numbers (2 pts)"
   ]
  },
  {
   "cell_type": "code",
   "execution_count": 3,
   "id": "838e5914",
   "metadata": {},
   "outputs": [
    {
     "data": {
      "text/plain": [
       "70"
      ]
     },
     "execution_count": 3,
     "metadata": {},
     "output_type": "execute_result"
    }
   ],
   "source": [
    "a = 5\n",
    "b = 10\n",
    "c = a * b\n",
    "d = c + 20\n",
    "d\n"
   ]
  },
  {
   "cell_type": "markdown",
   "id": "1f6bede8",
   "metadata": {},
   "source": [
    "Exercise 9 - Convert Minutes to Hours (2 pts)"
   ]
  },
  {
   "cell_type": "code",
   "execution_count": 4,
   "id": "425f7ac8",
   "metadata": {},
   "outputs": [
    {
     "data": {
      "text/plain": [
       "2.0"
      ]
     },
     "execution_count": 4,
     "metadata": {},
     "output_type": "execute_result"
    }
   ],
   "source": [
    "def minutes_to_hours(minutes):\n",
    "    return minutes / 60\n",
    "\n",
    "minutes = 120\n",
    "hours = minutes_to_hours(minutes)\n",
    "hours\n"
   ]
  },
  {
   "cell_type": "markdown",
   "id": "d6ac8575",
   "metadata": {},
   "source": [
    "Exercise 10 - Objectives (3 pts)"
   ]
  },
  {
   "cell_type": "markdown",
   "id": "dc00dc27",
   "metadata": {},
   "source": [
    "## Objectives\n",
    "- Demonstrate basic data science concepts\n",
    "- Show practical examples of code and markdown integration\n",
    "- Provide clear documentation and explanations\n"
   ]
  },
  {
   "cell_type": "markdown",
   "id": "f33cdebe",
   "metadata": {},
   "source": [
    "Exercise 11 - Author’s Name (2 pts)"
   ]
  },
  {
   "cell_type": "markdown",
   "id": "33717cf7",
   "metadata": {},
   "source": [
    "## Author\n",
    "- John Doe\n"
   ]
  },
  {
   "cell_type": "markdown",
   "id": "a3a8e557",
   "metadata": {},
   "source": [
    "Exercise 12 - Share Notebook on GitHub (3 pts)"
   ]
  },
  {
   "cell_type": "markdown",
   "id": "e8cc743a",
   "metadata": {},
   "source": [
    "https://github.com/robertoselmedica/Create_and_share_your_jupyter_notebook"
   ]
  },
  {
   "cell_type": "markdown",
   "id": "1c38e6d7",
   "metadata": {},
   "source": [
    "Exercise 13 - Screenshot of First Page (1 pt)"
   ]
  },
  {
   "cell_type": "markdown",
   "id": "77f5d225",
   "metadata": {},
   "source": [
    "https://github.com/robertoselmedica/Create_and_share_your_jupyter_notebook/blob/main/Untitled21-Jupyter-Notebook.jpg"
   ]
  }
 ],
 "metadata": {
  "kernelspec": {
   "display_name": "Python 3 (ipykernel)",
   "language": "python",
   "name": "python3"
  },
  "language_info": {
   "codemirror_mode": {
    "name": "ipython",
    "version": 3
   },
   "file_extension": ".py",
   "mimetype": "text/x-python",
   "name": "python",
   "nbconvert_exporter": "python",
   "pygments_lexer": "ipython3",
   "version": "3.11.5"
  }
 },
 "nbformat": 4,
 "nbformat_minor": 5
}
